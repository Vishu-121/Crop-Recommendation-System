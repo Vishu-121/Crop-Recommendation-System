{
  "nbformat": 4,
  "nbformat_minor": 0,
  "metadata": {
    "colab": {
      "name": "Crop Recommendation System.ipynb",
      "provenance": [],
      "collapsed_sections": [],
      "authorship_tag": "ABX9TyN8qBf71hHW6JIsioSRm12m",
      "include_colab_link": true
    },
    "kernelspec": {
      "name": "python3",
      "display_name": "Python 3"
    },
    "language_info": {
      "name": "python"
    }
  },
  "cells": [
    {
      "cell_type": "markdown",
      "metadata": {
        "id": "view-in-github",
        "colab_type": "text"
      },
      "source": [
        "<a href=\"https://colab.research.google.com/github/Vishu-121/Crop-Recommendation-System/blob/main/Crop_Recommendation_System.ipynb\" target=\"_parent\"><img src=\"https://colab.research.google.com/assets/colab-badge.svg\" alt=\"Open In Colab\"/></a>"
      ]
    },
    {
      "cell_type": "markdown",
      "source": [
        "• College project and I was part of a team that had 4 members.\n",
        "• Role played during is Analytics And Logic Building.\n",
        "• Objective : To make a system which will recommend the crops to grow on specific land under the changing conditions like (Temperature, Humidity, Nutrients, pH Level, Rainfall)."
      ],
      "metadata": {
        "id": "5B8Zco34Sgvj"
      }
    },
    {
      "cell_type": "code",
      "execution_count": null,
      "metadata": {
        "colab": {
          "base_uri": "https://localhost:8080/"
        },
        "id": "w7E076WZAHbr",
        "outputId": "c55b55e2-4a55-4ce4-eec5-2488266519c4"
      },
      "outputs": [
        {
          "output_type": "stream",
          "name": "stdout",
          "text": [
            "Mounted at /content/drive\n"
          ]
        }
      ],
      "source": [
        "#Importing various library which we have to use in this project\n",
        "#Importing drive-library from colab module\n",
        "from __future__ import print_function\n",
        "import pandas as pd\n",
        "import numpy as np\n",
        "import matplotlib.pyplot as plt\n",
        "import seaborn as sns\n",
        "from sklearn.metrics import classification_report\n",
        "from sklearn import metrics\n",
        "from sklearn import tree\n",
        "import warnings\n",
        "warnings.filterwarnings('ignore')\n",
        "\n",
        "from google.colab import drive\n",
        "drive.mount(\"/content/drive\")"
      ]
    },
    {
      "cell_type": "code",
      "source": [
        "#Importing the csv file using pandas library\n",
        "df=pd.read_csv(\"/content/drive/MyDrive/Colab Notebooks/Crop_recommendation.csv\")\n",
        "df"
      ],
      "metadata": {
        "colab": {
          "base_uri": "https://localhost:8080/",
          "height": 424
        },
        "id": "0C9a9teGAsJF",
        "outputId": "ae673c7c-276c-499f-b34d-a14bf138e8f3"
      },
      "execution_count": null,
      "outputs": [
        {
          "output_type": "execute_result",
          "data": {
            "text/plain": [
              "        N   P   K  temperature   humidity        ph    rainfall   label\n",
              "0      90  42  43    20.879744  82.002744  6.502985  202.935536    rice\n",
              "1      85  58  41    21.770462  80.319644  7.038096  226.655537    rice\n",
              "2      60  55  44    23.004459  82.320763  7.840207  263.964248    rice\n",
              "3      74  35  40    26.491096  80.158363  6.980401  242.864034    rice\n",
              "4      78  42  42    20.130175  81.604873  7.628473  262.717340    rice\n",
              "...   ...  ..  ..          ...        ...       ...         ...     ...\n",
              "2195  107  34  32    26.774637  66.413269  6.780064  177.774507  coffee\n",
              "2196   99  15  27    27.417112  56.636362  6.086922  127.924610  coffee\n",
              "2197  118  33  30    24.131797  67.225123  6.362608  173.322839  coffee\n",
              "2198  117  32  34    26.272418  52.127394  6.758793  127.175293  coffee\n",
              "2199  104  18  30    23.603016  60.396475  6.779833  140.937041  coffee\n",
              "\n",
              "[2200 rows x 8 columns]"
            ],
            "text/html": [
              "\n",
              "  <div id=\"df-b9c7332b-dafc-4a43-9238-6170e01edc4f\">\n",
              "    <div class=\"colab-df-container\">\n",
              "      <div>\n",
              "<style scoped>\n",
              "    .dataframe tbody tr th:only-of-type {\n",
              "        vertical-align: middle;\n",
              "    }\n",
              "\n",
              "    .dataframe tbody tr th {\n",
              "        vertical-align: top;\n",
              "    }\n",
              "\n",
              "    .dataframe thead th {\n",
              "        text-align: right;\n",
              "    }\n",
              "</style>\n",
              "<table border=\"1\" class=\"dataframe\">\n",
              "  <thead>\n",
              "    <tr style=\"text-align: right;\">\n",
              "      <th></th>\n",
              "      <th>N</th>\n",
              "      <th>P</th>\n",
              "      <th>K</th>\n",
              "      <th>temperature</th>\n",
              "      <th>humidity</th>\n",
              "      <th>ph</th>\n",
              "      <th>rainfall</th>\n",
              "      <th>label</th>\n",
              "    </tr>\n",
              "  </thead>\n",
              "  <tbody>\n",
              "    <tr>\n",
              "      <th>0</th>\n",
              "      <td>90</td>\n",
              "      <td>42</td>\n",
              "      <td>43</td>\n",
              "      <td>20.879744</td>\n",
              "      <td>82.002744</td>\n",
              "      <td>6.502985</td>\n",
              "      <td>202.935536</td>\n",
              "      <td>rice</td>\n",
              "    </tr>\n",
              "    <tr>\n",
              "      <th>1</th>\n",
              "      <td>85</td>\n",
              "      <td>58</td>\n",
              "      <td>41</td>\n",
              "      <td>21.770462</td>\n",
              "      <td>80.319644</td>\n",
              "      <td>7.038096</td>\n",
              "      <td>226.655537</td>\n",
              "      <td>rice</td>\n",
              "    </tr>\n",
              "    <tr>\n",
              "      <th>2</th>\n",
              "      <td>60</td>\n",
              "      <td>55</td>\n",
              "      <td>44</td>\n",
              "      <td>23.004459</td>\n",
              "      <td>82.320763</td>\n",
              "      <td>7.840207</td>\n",
              "      <td>263.964248</td>\n",
              "      <td>rice</td>\n",
              "    </tr>\n",
              "    <tr>\n",
              "      <th>3</th>\n",
              "      <td>74</td>\n",
              "      <td>35</td>\n",
              "      <td>40</td>\n",
              "      <td>26.491096</td>\n",
              "      <td>80.158363</td>\n",
              "      <td>6.980401</td>\n",
              "      <td>242.864034</td>\n",
              "      <td>rice</td>\n",
              "    </tr>\n",
              "    <tr>\n",
              "      <th>4</th>\n",
              "      <td>78</td>\n",
              "      <td>42</td>\n",
              "      <td>42</td>\n",
              "      <td>20.130175</td>\n",
              "      <td>81.604873</td>\n",
              "      <td>7.628473</td>\n",
              "      <td>262.717340</td>\n",
              "      <td>rice</td>\n",
              "    </tr>\n",
              "    <tr>\n",
              "      <th>...</th>\n",
              "      <td>...</td>\n",
              "      <td>...</td>\n",
              "      <td>...</td>\n",
              "      <td>...</td>\n",
              "      <td>...</td>\n",
              "      <td>...</td>\n",
              "      <td>...</td>\n",
              "      <td>...</td>\n",
              "    </tr>\n",
              "    <tr>\n",
              "      <th>2195</th>\n",
              "      <td>107</td>\n",
              "      <td>34</td>\n",
              "      <td>32</td>\n",
              "      <td>26.774637</td>\n",
              "      <td>66.413269</td>\n",
              "      <td>6.780064</td>\n",
              "      <td>177.774507</td>\n",
              "      <td>coffee</td>\n",
              "    </tr>\n",
              "    <tr>\n",
              "      <th>2196</th>\n",
              "      <td>99</td>\n",
              "      <td>15</td>\n",
              "      <td>27</td>\n",
              "      <td>27.417112</td>\n",
              "      <td>56.636362</td>\n",
              "      <td>6.086922</td>\n",
              "      <td>127.924610</td>\n",
              "      <td>coffee</td>\n",
              "    </tr>\n",
              "    <tr>\n",
              "      <th>2197</th>\n",
              "      <td>118</td>\n",
              "      <td>33</td>\n",
              "      <td>30</td>\n",
              "      <td>24.131797</td>\n",
              "      <td>67.225123</td>\n",
              "      <td>6.362608</td>\n",
              "      <td>173.322839</td>\n",
              "      <td>coffee</td>\n",
              "    </tr>\n",
              "    <tr>\n",
              "      <th>2198</th>\n",
              "      <td>117</td>\n",
              "      <td>32</td>\n",
              "      <td>34</td>\n",
              "      <td>26.272418</td>\n",
              "      <td>52.127394</td>\n",
              "      <td>6.758793</td>\n",
              "      <td>127.175293</td>\n",
              "      <td>coffee</td>\n",
              "    </tr>\n",
              "    <tr>\n",
              "      <th>2199</th>\n",
              "      <td>104</td>\n",
              "      <td>18</td>\n",
              "      <td>30</td>\n",
              "      <td>23.603016</td>\n",
              "      <td>60.396475</td>\n",
              "      <td>6.779833</td>\n",
              "      <td>140.937041</td>\n",
              "      <td>coffee</td>\n",
              "    </tr>\n",
              "  </tbody>\n",
              "</table>\n",
              "<p>2200 rows × 8 columns</p>\n",
              "</div>\n",
              "      <button class=\"colab-df-convert\" onclick=\"convertToInteractive('df-b9c7332b-dafc-4a43-9238-6170e01edc4f')\"\n",
              "              title=\"Convert this dataframe to an interactive table.\"\n",
              "              style=\"display:none;\">\n",
              "        \n",
              "  <svg xmlns=\"http://www.w3.org/2000/svg\" height=\"24px\"viewBox=\"0 0 24 24\"\n",
              "       width=\"24px\">\n",
              "    <path d=\"M0 0h24v24H0V0z\" fill=\"none\"/>\n",
              "    <path d=\"M18.56 5.44l.94 2.06.94-2.06 2.06-.94-2.06-.94-.94-2.06-.94 2.06-2.06.94zm-11 1L8.5 8.5l.94-2.06 2.06-.94-2.06-.94L8.5 2.5l-.94 2.06-2.06.94zm10 10l.94 2.06.94-2.06 2.06-.94-2.06-.94-.94-2.06-.94 2.06-2.06.94z\"/><path d=\"M17.41 7.96l-1.37-1.37c-.4-.4-.92-.59-1.43-.59-.52 0-1.04.2-1.43.59L10.3 9.45l-7.72 7.72c-.78.78-.78 2.05 0 2.83L4 21.41c.39.39.9.59 1.41.59.51 0 1.02-.2 1.41-.59l7.78-7.78 2.81-2.81c.8-.78.8-2.07 0-2.86zM5.41 20L4 18.59l7.72-7.72 1.47 1.35L5.41 20z\"/>\n",
              "  </svg>\n",
              "      </button>\n",
              "      \n",
              "  <style>\n",
              "    .colab-df-container {\n",
              "      display:flex;\n",
              "      flex-wrap:wrap;\n",
              "      gap: 12px;\n",
              "    }\n",
              "\n",
              "    .colab-df-convert {\n",
              "      background-color: #E8F0FE;\n",
              "      border: none;\n",
              "      border-radius: 50%;\n",
              "      cursor: pointer;\n",
              "      display: none;\n",
              "      fill: #1967D2;\n",
              "      height: 32px;\n",
              "      padding: 0 0 0 0;\n",
              "      width: 32px;\n",
              "    }\n",
              "\n",
              "    .colab-df-convert:hover {\n",
              "      background-color: #E2EBFA;\n",
              "      box-shadow: 0px 1px 2px rgba(60, 64, 67, 0.3), 0px 1px 3px 1px rgba(60, 64, 67, 0.15);\n",
              "      fill: #174EA6;\n",
              "    }\n",
              "\n",
              "    [theme=dark] .colab-df-convert {\n",
              "      background-color: #3B4455;\n",
              "      fill: #D2E3FC;\n",
              "    }\n",
              "\n",
              "    [theme=dark] .colab-df-convert:hover {\n",
              "      background-color: #434B5C;\n",
              "      box-shadow: 0px 1px 3px 1px rgba(0, 0, 0, 0.15);\n",
              "      filter: drop-shadow(0px 1px 2px rgba(0, 0, 0, 0.3));\n",
              "      fill: #FFFFFF;\n",
              "    }\n",
              "  </style>\n",
              "\n",
              "      <script>\n",
              "        const buttonEl =\n",
              "          document.querySelector('#df-b9c7332b-dafc-4a43-9238-6170e01edc4f button.colab-df-convert');\n",
              "        buttonEl.style.display =\n",
              "          google.colab.kernel.accessAllowed ? 'block' : 'none';\n",
              "\n",
              "        async function convertToInteractive(key) {\n",
              "          const element = document.querySelector('#df-b9c7332b-dafc-4a43-9238-6170e01edc4f');\n",
              "          const dataTable =\n",
              "            await google.colab.kernel.invokeFunction('convertToInteractive',\n",
              "                                                     [key], {});\n",
              "          if (!dataTable) return;\n",
              "\n",
              "          const docLinkHtml = 'Like what you see? Visit the ' +\n",
              "            '<a target=\"_blank\" href=https://colab.research.google.com/notebooks/data_table.ipynb>data table notebook</a>'\n",
              "            + ' to learn more about interactive tables.';\n",
              "          element.innerHTML = '';\n",
              "          dataTable['output_type'] = 'display_data';\n",
              "          await google.colab.output.renderOutput(dataTable, element);\n",
              "          const docLink = document.createElement('div');\n",
              "          docLink.innerHTML = docLinkHtml;\n",
              "          element.appendChild(docLink);\n",
              "        }\n",
              "      </script>\n",
              "    </div>\n",
              "  </div>\n",
              "  "
            ]
          },
          "metadata": {},
          "execution_count": 3
        }
      ]
    },
    {
      "cell_type": "markdown",
      "source": [
        "1. Define Temperature where rainfall is maximum."
      ],
      "metadata": {
        "id": "JvKle2fUC2jO"
      }
    },
    {
      "cell_type": "code",
      "source": [
        "#Groupby the temperature column with the mean of rainfall column\n",
        "df.groupby(df[\"temperature\"].round()).mean()[\"rainfall\"].sort_values(ascending=False).head().plot(kind=\"bar\",figsize=(6,5))"
      ],
      "metadata": {
        "colab": {
          "base_uri": "https://localhost:8080/",
          "height": 364
        },
        "id": "_eDOdVS3H16k",
        "outputId": "994f2d46-4ee7-4dc4-f388-ea20742a95f6"
      },
      "execution_count": null,
      "outputs": [
        {
          "output_type": "execute_result",
          "data": {
            "text/plain": [
              "<matplotlib.axes._subplots.AxesSubplot at 0x7f6195d96f50>"
            ]
          },
          "metadata": {},
          "execution_count": 11
        },
        {
          "output_type": "display_data",
          "data": {
            "text/plain": [
              "<Figure size 432x360 with 1 Axes>"
            ],
            "image/png": "[encoded data removed]"
          },
          "metadata": {
            "needs_background": "light"
          }
        }
      ]
    },
    {
      "cell_type": "markdown",
      "source": [
        "2. The Crop which is growing more in ph below 7."
      ],
      "metadata": {
        "id": "92gUuV2-DAU8"
      }
    },
    {
      "cell_type": "code",
      "source": [
        "#Filter the dataframe by choosing only those rows which have pH less than 7\n",
        "df_cr=df[df[\"ph\"]<7]\n",
        "print(df_cr[\"label\"].max(),\"is growing more in ph less than 7\")"
      ],
      "metadata": {
        "colab": {
          "base_uri": "https://localhost:8080/"
        },
        "id": "mAKR9JVADC89",
        "outputId": "e73b91cf-297b-4ba9-fc46-c179472425aa"
      },
      "execution_count": null,
      "outputs": [
        {
          "output_type": "stream",
          "name": "stdout",
          "text": [
            "watermelon is growing more in ph less than 7\n"
          ]
        }
      ]
    },
    {
      "cell_type": "markdown",
      "source": [
        "3. Peak of humidity, where temperature is above 20'C."
      ],
      "metadata": {
        "id": "_80ioH7ODfLi"
      }
    },
    {
      "cell_type": "code",
      "source": [
        "#Filter the dataframe by choosing only those rows which have temperature is more than 20\n",
        "df_t=df[df[\"temperature\"]>20]\n",
        "print(df_t[\"humidity\"].max(),\"is the peak of humidity, where temperature is above 20'C\")"
      ],
      "metadata": {
        "colab": {
          "base_uri": "https://localhost:8080/"
        },
        "id": "yusFZWTUEVyd",
        "outputId": "84450519-4049-4277-938a-77e394d655dd"
      },
      "execution_count": null,
      "outputs": [
        {
          "output_type": "stream",
          "name": "stdout",
          "text": [
            "99.98187601 is the peak of humidity, where temperature is above 20'C\n"
          ]
        }
      ]
    },
    {
      "cell_type": "markdown",
      "source": [
        "4. Crop which grows more in temperature above 25'C."
      ],
      "metadata": {
        "id": "4TQlEZyYEW95"
      }
    },
    {
      "cell_type": "code",
      "source": [
        "#Filter the dataframe by choosing only those rows which have temperature more than 25\n",
        "#Making another dataframe by converting that list of label,Frequency\n",
        "#And then display it by the help of matplotlib graphs\n",
        "data=[]\n",
        "df_t=df[df[\"temperature\"]>25]\n",
        "for item in df_t[\"label\"].unique():\n",
        "  data.append([item, len(df_t[df_t[\"label\"]==item])])\n",
        "data=pd.DataFrame(data, columns=([\"Label\",\"Freq\"]))\n",
        "data=data.sort_values(by=\"Freq\", ascending=False).head()\n",
        "data.plot(x=\"Label\",y=\"Freq\", kind=\"bar\", figsize=(6,5))"
      ],
      "metadata": {
        "colab": {
          "base_uri": "https://localhost:8080/",
          "height": 400
        },
        "id": "4XknnUHbE4ED",
        "outputId": "aa003ef6-273e-408d-899f-e4d29dc2b06c"
      },
      "execution_count": null,
      "outputs": [
        {
          "output_type": "execute_result",
          "data": {
            "text/plain": [
              "<matplotlib.axes._subplots.AxesSubplot at 0x7f61956cfb10>"
            ]
          },
          "metadata": {},
          "execution_count": 30
        },
        {
          "output_type": "display_data",
          "data": {
            "text/plain": [
              "<Figure size 432x360 with 1 Axes>"
            ],
            "image/png": "[encoded data removed]"
          },
          "metadata": {
            "needs_background": "light"
          }
        }
      ]
    },
    {
      "cell_type": "markdown",
      "source": [
        "5. Crop which grow more in heavy rainfall area(above 250)."
      ],
      "metadata": {
        "id": "I07kK0zdFWnM"
      }
    },
    {
      "cell_type": "code",
      "source": [
        "#Filter the dataframe by choosing only those rows which have rainfall more than 250\n",
        "#Making another dataframe by converting that list of label,Frequency\n",
        "#And then display it by the help of matplotlib graphs\n",
        "data=[]\n",
        "df_ra=df[df[\"rainfall\"]>250]\n",
        "for item in df_ra[\"label\"].unique():\n",
        "  data.append([item, len(df_ra[df_ra[\"label\"]==item])])\n",
        "data=pd.DataFrame(data, columns=([\"Label\",\"Freq\"]))\n",
        "data=data.sort_values(by=\"Freq\", ascending=False).head()\n",
        "data.plot(x=\"Label\",y=\"Freq\", kind=\"bar\", figsize=(6,5))"
      ],
      "metadata": {
        "id": "bOesWR1PFvoR",
        "colab": {
          "base_uri": "https://localhost:8080/",
          "height": 360
        },
        "outputId": "d18536ee-7036-45f9-890c-decf25fcd7f8"
      },
      "execution_count": null,
      "outputs": [
        {
          "output_type": "execute_result",
          "data": {
            "text/plain": [
              "<matplotlib.axes._subplots.AxesSubplot at 0x7f6193ac06d0>"
            ]
          },
          "metadata": {},
          "execution_count": 49
        },
        {
          "output_type": "display_data",
          "data": {
            "text/plain": [
              "<Figure size 432x360 with 1 Axes>"
            ],
            "image/png": "[encoded data removed]"
          },
          "metadata": {
            "needs_background": "light"
          }
        }
      ]
    },
    {
      "cell_type": "markdown",
      "source": [
        "6. Crop which grow more in low rainfall area(below 100)."
      ],
      "metadata": {
        "id": "6J2oIWAJFwNL"
      }
    },
    {
      "cell_type": "code",
      "source": [
        "#Filter the dataframe by choosing only those rows which have rainfall less than 100\n",
        "#Making another dataframe by converting that list of label,Frequency\n",
        "#And then display it by the help of matplotlib graphs\n",
        "data=[]\n",
        "df_rb=df[df[\"rainfall\"]<100]\n",
        "for item in df_rb[\"label\"].unique():\n",
        "  data.append([item, len(df_rb[df_rb[\"label\"]==item])])\n",
        "data=pd.DataFrame(data, columns=([\"Label\",\"Freq\"]))\n",
        "data=data.sort_values(by=\"Freq\", ascending=False).head()\n",
        "data.plot(x=\"Label\",y=\"Freq\", kind=\"bar\", figsize=(6,5))"
      ],
      "metadata": {
        "id": "8GW2D71tF7GJ",
        "colab": {
          "base_uri": "https://localhost:8080/",
          "height": 398
        },
        "outputId": "7fa8e4f8-aafb-44b9-dce4-2aeefd73d2e8"
      },
      "execution_count": null,
      "outputs": [
        {
          "output_type": "execute_result",
          "data": {
            "text/plain": [
              "<matplotlib.axes._subplots.AxesSubplot at 0x7f61937ca390>"
            ]
          },
          "metadata": {},
          "execution_count": 52
        },
        {
          "output_type": "display_data",
          "data": {
            "text/plain": [
              "<Figure size 432x360 with 1 Axes>"
            ],
            "image/png": "[encoded data removed]"
          },
          "metadata": {
            "needs_background": "light"
          }
        }
      ]
    },
    {
      "cell_type": "markdown",
      "source": [
        "7. Crop which grows in low temperature below 20'C.(More to less)"
      ],
      "metadata": {
        "id": "F56DXrvuF7sP"
      }
    },
    {
      "cell_type": "code",
      "source": [
        "#Filter the dataframe by choosing only those rows which have temperature less than 20\n",
        "#Making another dataframe by converting that list of label,Frequency\n",
        "#And then display it by the help of matplotlib graphs\n",
        "data=[]\n",
        "df_te=df[df[\"temperature\"]<20]\n",
        "for item in df_te[\"label\"]:\n",
        "  data.append([item, len(df_te[df_te[\"label\"]==item])])\n",
        "data=pd.DataFrame(data, columns=([\"Label\",\"Freq\"]))\n",
        "data=data.sort_values(by=\"Freq\", ascending=False)\n",
        "data[\"Label\"].unique()"
      ],
      "metadata": {
        "id": "bJ4ygiscGH6M",
        "colab": {
          "base_uri": "https://localhost:8080/"
        },
        "outputId": "38eaab14-4ad2-4997-e6fe-4c68da0ddf47"
      },
      "execution_count": null,
      "outputs": [
        {
          "output_type": "execute_result",
          "data": {
            "text/plain": [
              "array(['chickpea', 'kidneybeans', 'grapes', 'orange', 'pomegranate',\n",
              "       'maize', 'pigeonpeas', 'lentil'], dtype=object)"
            ]
          },
          "metadata": {},
          "execution_count": 20
        }
      ]
    },
    {
      "cell_type": "markdown",
      "source": [
        "8. Crop which grows in temperature above 40'C.(Less to more)"
      ],
      "metadata": {
        "id": "gGR_Z2uCGKDy"
      }
    },
    {
      "cell_type": "code",
      "source": [
        "#Filter the dataframe by choosing only those rows which have temperature more than 40\n",
        "#Making another dataframe by converting that list of label,Frequency\n",
        "#And then display it by the help of matplotlib graphs\n",
        "data=[]\n",
        "df_te=df[df[\"temperature\"]>40]\n",
        "for item in df_te[\"label\"]:\n",
        "  data.append([item, len(df_te[df_te[\"label\"]==item])])\n",
        "data=pd.DataFrame(data, columns=([\"Label\",\"Freq\"]))\n",
        "data=data.sort_values(by=\"Freq\", ascending=True)\n",
        "data[\"Label\"].unique()"
      ],
      "metadata": {
        "id": "UWaqUo3oGevh",
        "colab": {
          "base_uri": "https://localhost:8080/"
        },
        "outputId": "3bc1ee9c-c7de-4886-f8e2-f95c37cd0ab0"
      },
      "execution_count": null,
      "outputs": [
        {
          "output_type": "execute_result",
          "data": {
            "text/plain": [
              "array(['grapes', 'papaya'], dtype=object)"
            ]
          },
          "metadata": {},
          "execution_count": 21
        }
      ]
    },
    {
      "cell_type": "markdown",
      "source": [
        "9. Crop which needs more (N,P,K)."
      ],
      "metadata": {
        "id": "jclaZg4RGfWI"
      }
    },
    {
      "cell_type": "code",
      "source": [
        "#Selecting the maximum npk having crops and display the crop which takes more npk value\n",
        "N=df[\"N\"].max()\n",
        "P=df[\"P\"].max()\n",
        "K=df[\"K\"].max()\n",
        "npk_list=[N,P,K]\n",
        "\n",
        "df_n=df[df[\"N\"]==N]\n",
        "df_p=df[df[\"P\"]==P]\n",
        "df_k=df[df[\"K\"]==K]\n",
        "\n",
        "print(\"These Crops need more N value\",df_n[\"label\"].unique())\n",
        "print(\"These Crops need more P value\",df_p[\"label\"].unique())\n",
        "print(\"These Crops need more K value\",df_k[\"label\"].unique())"
      ],
      "metadata": {
        "id": "h8tmCJsRGuYr",
        "colab": {
          "base_uri": "https://localhost:8080/"
        },
        "outputId": "1c0c2739-7e39-49bf-b87f-5a3939ba0ba8"
      },
      "execution_count": null,
      "outputs": [
        {
          "output_type": "stream",
          "name": "stdout",
          "text": [
            "These Crops need more N value ['cotton']\n",
            "These Crops need more P value ['grapes' 'apple']\n",
            "These Crops need more K value ['grapes' 'apple']\n"
          ]
        }
      ]
    },
    {
      "cell_type": "markdown",
      "source": [
        "10. Crop which needs less (N,P,K)."
      ],
      "metadata": {
        "id": "I35HmW0WGu7H"
      }
    },
    {
      "cell_type": "code",
      "source": [
        "#Selecting the maximum npk having crops and display the crop which takes less npk value\n",
        "N=df[\"N\"].min()\n",
        "P=df[\"P\"].min()\n",
        "K=df[\"K\"].min()\n",
        "npk_list=[N,P,K]\n",
        "\n",
        "df_n=df[df[\"N\"]==N]\n",
        "df_p=df[df[\"P\"]==P]\n",
        "df_k=df[df[\"K\"]==K]\n",
        "\n",
        "print(\"These Crops need less N value\",df_n[\"label\"].unique())\n",
        "print(\"These Crops need less P value\",df_p[\"label\"].unique())\n",
        "print(\"These Crops need less K value\",df_k[\"label\"].unique())"
      ],
      "metadata": {
        "id": "4Be-Q8luG_1c",
        "colab": {
          "base_uri": "https://localhost:8080/"
        },
        "outputId": "06de7997-dcad-4a46-e272-99ecca1a8257"
      },
      "execution_count": null,
      "outputs": [
        {
          "output_type": "stream",
          "name": "stdout",
          "text": [
            "These Crops need less N value ['kidneybeans' 'pigeonpeas' 'mothbeans' 'mungbean' 'lentil' 'pomegranate'\n",
            " 'mango' 'grapes' 'apple' 'orange' 'coconut']\n",
            "These Crops need less P value ['pomegranate' 'watermelon' 'muskmelon' 'orange' 'coconut']\n",
            "These Crops need less K value ['orange']\n"
          ]
        }
      ]
    },
    {
      "cell_type": "markdown",
      "source": [
        "11. On which temperature, the crops are growing more.(Top 5)"
      ],
      "metadata": {
        "id": "JADnsc-INQYk"
      }
    },
    {
      "cell_type": "code",
      "source": [
        "#Groupby the temperature column with the count of label column\n",
        "df.groupby(df[\"temperature\"].round()).count()[\"label\"].sort_values(ascending=False).head().plot(kind=\"bar\", figsize=(6,5))"
      ],
      "metadata": {
        "id": "yMuRDZh3Vcsa",
        "colab": {
          "base_uri": "https://localhost:8080/",
          "height": 364
        },
        "outputId": "e5213069-9914-4cd8-b3c5-8fe8a47e68d4"
      },
      "execution_count": null,
      "outputs": [
        {
          "output_type": "execute_result",
          "data": {
            "text/plain": [
              "<matplotlib.axes._subplots.AxesSubplot at 0x7fd52edc58d0>"
            ]
          },
          "metadata": {},
          "execution_count": 19
        },
        {
          "output_type": "display_data",
          "data": {
            "text/plain": [
              "<Figure size 432x360 with 1 Axes>"
            ],
            "image/png": "[encoded data removed]"
          },
          "metadata": {
            "needs_background": "light"
          }
        }
      ]
    },
    {
      "cell_type": "markdown",
      "source": [
        "12. Least 5 crops which grows in temperature above 25'C."
      ],
      "metadata": {
        "id": "pg0i2oIXVdFe"
      }
    },
    {
      "cell_type": "code",
      "source": [
        "#Filter the dataframe by choosing only those rows which have temperature more than 25\n",
        "#Making another dataframe by converting that list of label,Frequency\n",
        "#And then display it by the help of matplotlib graphs\n",
        "data=[]\n",
        "df_t=df[df[\"temperature\"]>25]\n",
        "for item in df_t[\"label\"].unique():\n",
        "  data.append([item, len(df_t[df_t[\"label\"]==item])])\n",
        "data=pd.DataFrame(data, columns=([\"Label\",\"Freq\"]))\n",
        "data=data.sort_values(by=\"Freq\", ascending=False).tail()\n",
        "data.plot(x=\"Label\",y=\"Freq\", kind=\"bar\", figsize=(6,5))"
      ],
      "metadata": {
        "colab": {
          "base_uri": "https://localhost:8080/",
          "height": 377
        },
        "id": "31Y51M3CVd1H",
        "outputId": "6c12cedf-c151-4424-f929-2d57417eabb4"
      },
      "execution_count": null,
      "outputs": [
        {
          "output_type": "execute_result",
          "data": {
            "text/plain": [
              "<matplotlib.axes._subplots.AxesSubplot at 0x7f619565af90>"
            ]
          },
          "metadata": {},
          "execution_count": 31
        },
        {
          "output_type": "display_data",
          "data": {
            "text/plain": [
              "<Figure size 432x360 with 1 Axes>"
            ],
            "image/png": "[encoded data removed]"
          },
          "metadata": {
            "needs_background": "light"
          }
        }
      ]
    },
    {
      "cell_type": "code",
      "source": [
        "#Separating Features and target labels\n",
        "features=df[['N','P','K','temperature','humidity','ph','rainfall']]\n",
        "target=df['label']\n",
        "labels=df['label']\n",
        "\n",
        "#Initialising empty lists to append all model names and corresponding accuracy\n",
        "acc=[]\n",
        "model=[]\n",
        "\n",
        "#Splitting into Test and Train data\n",
        "from sklearn.model_selection import train_test_split\n",
        "Xtrain,Xtest,Ytrain,Ytest=train_test_split(features,target,test_size=0.2,random_state=2)\n",
        "\n",
        "#DECISION TREE</H1>\n",
        "from sklearn.tree import DecisionTreeClassifier\n",
        "DecisionTree = DecisionTreeClassifier(criterion=\"entropy\",random_state=2,max_depth=5)\n",
        "\n",
        "DecisionTree.fit(Xtrain,Ytrain)\n",
        "\n",
        "predicted_values = DecisionTree.predict(Xtest)\n",
        "x = metrics.accuracy_score(Ytest, predicted_values)\n",
        "acc.append(x)\n",
        "model.append('Decision Tree')\n",
        "\n",
        "from sklearn.model_selection import cross_val_score\n",
        "\n",
        "# Cross validation score (Decision Tree)\n",
        "score = cross_val_score(DecisionTree, features, target,cv=5)\n",
        "\n",
        "#Saving the trained decision tree model\n",
        "import pickle\n",
        "\n",
        "#dump the trained decision tree\n",
        "DT_pkl_filename='DecisionTree.pkl'\n",
        "\n",
        "#Open the file to save as pkl file\n",
        "DT_Model_pkl=open(DT_pkl_filename,'wb')\n",
        "pickle.dump(DecisionTree,DT_Model_pkl)\n",
        "\n",
        "#Close the pickle instances\n",
        "DT_Model_pkl.close()\n",
        "\n",
        "#Gaussian Naive Bayes\n",
        "from sklearn.naive_bayes import GaussianNB\n",
        "NaiveBayes = GaussianNB()\n",
        "NaiveBayes.fit(Xtrain,Ytrain)\n",
        "predicted_values=NaiveBayes.predict(Xtest)\n",
        "x=metrics.accuracy_score(Ytest,predicted_values)\n",
        "acc.append(x)\n",
        "model.append('Naive Bayes')\n",
        "\n",
        "score = cross_val_score(NaiveBayes,features,target,cv=5)\n",
        "\n",
        "#Saving the Naive bayes Classifier with pickle\n",
        "#Dump the trained Naive Bayes Classifier with pickle\n",
        "NB_pkl_filename='NBClassifier.pkl'\n",
        "\n",
        "#Open the file to save as pkl file\n",
        "NB_Model_pkl= open(NB_pkl_filename,'wb')\n",
        "pickle.dump(NaiveBayes,NB_Model_pkl)\n",
        "NB_Model_pkl.close()\n",
        "\n",
        "#Support Vector Machine\n",
        "from sklearn.svm import SVC\n",
        "SVM=SVC(gamma='auto')\n",
        "SVM.fit(Xtrain,Ytrain)\n",
        "predicted_values=SVM.predict(Xtest)\n",
        "x=metrics.accuracy_score(Ytest,predicted_values)\n",
        "acc.append(x)\n",
        "\n",
        "score = cross_val_score(SVM,features,target,cv=5)\n",
        "\n",
        "#Logistic Regression\n",
        "from sklearn.linear_model import LogisticRegression\n",
        "LogReg=LogisticRegression(random_state=2)\n",
        "LogReg.fit(Xtrain,Ytrain)\n",
        "predicted_values=LogReg.predict(Xtest)\n",
        "x=metrics.accuracy_score(Ytest,predicted_values)\n",
        "acc.append(x)\n",
        "model.append('Logistic Regression')\n",
        "model.append('SVM')\n",
        "\n",
        "# Cross validation score (Logistic Regression)\n",
        "score = cross_val_score(LogReg,features,target,cv=5)\n",
        "\n",
        "#Saving the trained Logistic Regression Model\n",
        "# Dump the trained Logistic Regression Model with Pickle\n",
        "LR_pkl_filename = 'LogisticRegression.pkl'\n",
        "\n",
        "# Open the file to save as pkl file\n",
        "LR_Model_pkl = open(DT_pkl_filename, 'wb')\n",
        "pickle.dump(LogReg, LR_Model_pkl)\n",
        "\n",
        "# Close the pickle instances\n",
        "LR_Model_pkl.close()\n",
        "\n",
        "#Random Forest\n",
        "from sklearn.ensemble import RandomForestClassifier\n",
        "RF=RandomForestClassifier(n_estimators=20, random_state=0)\n",
        "RF.fit(Xtrain,Ytrain)\n",
        "predicted_values=RF.predict(Xtest)\n",
        "x=metrics.accuracy_score(Ytest,predicted_values)\n",
        "acc.append(x)\n",
        "model.append('RF')\n",
        "\n",
        "score = cross_val_score(RF,features,target,cv=5)\n",
        "\n",
        "import pickle\n",
        "# Dump the trained Naive Bayes classifier with Pickle\n",
        "RF_pkl_filename = 'RandomForest.pkl'\n",
        "\n",
        "# Open the file to save as pkl file\n",
        "RF_Model_pkl = open(RF_pkl_filename, 'wb')\n",
        "pickle.dump(RF, RF_Model_pkl)\n",
        "\n",
        "# Close the pickle instances\n",
        "RF_Model_pkl.close()\n",
        "\n",
        "#XGBoost\n",
        "import xgboost as xgb\n",
        "XB = xgb.XGBClassifier()\n",
        "XB.fit(Xtrain,Ytrain)\n",
        "\n",
        "predicted_values = XB.predict(Xtest)\n",
        "\n",
        "x = metrics.accuracy_score(Ytest, predicted_values)\n",
        "acc.append(x)\n",
        "model.append('XGBoost')\n",
        "\n",
        "score = cross_val_score(XB,features,target,cv=5)\n",
        "\n",
        "import pickle\n",
        "# Dump the trained Naive Bayes classifier with Pickle\n",
        "XB_pkl_filename = 'XGBoost.pkl'\n",
        "\n",
        "# Open the file to save as pkl file\n",
        "XB_Model_pkl = open(XB_pkl_filename, 'wb')\n",
        "pickle.dump(XB, XB_Model_pkl)\n",
        "\n",
        "# Close the pickle instances\n",
        "XB_Model_pkl.close()\n",
        "\n",
        "#Accuracy Comparison\n",
        "plt.figure(figsize=[10,5],dpi = 100)\n",
        "plt.title('Accuracy Comparison')\n",
        "plt.xlabel('Accuracy')\n",
        "plt.ylabel('Algorithm')\n",
        "\n",
        "accuracy_models = dict(zip(model, acc))\n",
        "for k, v in accuracy_models.items():\n",
        "\n",
        "#Random Predictions\n",
        "\tdata = np.array([[104,18, 30, 23.603016, 60.3, 6.7, 140.91]])\n",
        "\tprediction = RF.predict(data)\n",
        "print(prediction,\"is the crop which we can grow in these conditions\")"
      ],
      "metadata": {
        "colab": {
          "base_uri": "https://localhost:8080/",
          "height": 498
        },
        "id": "qxarfX9agfYg",
        "outputId": "1f085a8b-cce5-4f38-a7c9-b09853d85d3f"
      },
      "execution_count": null,
      "outputs": [
        {
          "output_type": "stream",
          "name": "stdout",
          "text": [
            "['coffee'] is the crop which we can grow in these conditions\n"
          ]
        },
        {
          "output_type": "display_data",
          "data": {
            "text/plain": [
              "<Figure size 1000x500 with 1 Axes>"
            ],
            "image/png": "[encoded data removed]"
          },
          "metadata": {
            "needs_background": "light"
          }
        }
      ]
    }
  ]
}